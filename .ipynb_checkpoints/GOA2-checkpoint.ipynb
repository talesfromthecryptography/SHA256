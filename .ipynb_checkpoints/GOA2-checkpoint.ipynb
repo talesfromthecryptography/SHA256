{
 "cells": [
  {
   "cell_type": "code",
   "execution_count": 400,
   "metadata": {},
   "outputs": [],
   "source": [
    "import itertools"
   ]
  },
  {
   "cell_type": "code",
   "execution_count": 401,
   "metadata": {
    "collapsed": true
   },
   "outputs": [],
   "source": [
    "def All(xs,p):\n",
    "    return all(itertools.imap(p,xs))\n",
    "\n",
    "def Some(xs,p):\n",
    "    return any(itertools.imap(p,xs))"
   ]
  },
  {
   "cell_type": "code",
   "execution_count": 440,
   "metadata": {},
   "outputs": [],
   "source": [
    "def log2(b):\n",
    "    bitCnt = 0\n",
    "    while b:\n",
    "        bitCnt += 1\n",
    "        b >>= 1\n",
    "    return bitCnt\n",
    "\n",
    "def log16(b):\n",
    "    hexdCnt = 0\n",
    "    if b:\n",
    "        while b:\n",
    "            hexdCnt += 1\n",
    "            b >>= 4\n",
    "        return hexdCnt\n",
    "    else:\n",
    "        return 1\n",
    "\n",
    "def bitCnt(n):\n",
    "    b = 0\n",
    "    while n:\n",
    "        if n&1:\n",
    "            b += 1\n",
    "        n >>= 1\n",
    "    return b\n",
    "\n",
    "def bits(n):\n",
    "    b = 0\n",
    "    while n:\n",
    "        if n&1:\n",
    "            yield b\n",
    "        b += 1\n",
    "        n >>=1\n",
    "        \n",
    "def toFr(n):\n",
    "    return frozenset(bits(n))\n",
    "\n",
    "def fromFr(f):\n",
    "    return sum(1<<b for b in f)\n",
    "\n",
    "def elmtCmp(x,y):\n",
    "    diff = bitCnt(x) - bitCnt(y)\n",
    "    if diff:\n",
    "        return diff\n",
    "    else:\n",
    "        return x - y\n",
    "\n",
    "hexDict = {\n",
    "    '0':'0000', '1':'0001', '2':'0010', '3':'0011', '4':'0100', '5':'0101',\n",
    "    '6':'0110', '7':'0111', '8':'1000', '9':'1001', 'a':'1010', 'b':'1011',\n",
    "    'c':'1100', 'd':'1101', 'e':'1110', 'f':'1111', 'L':''}\n",
    "\n",
    "def nat2bin(n, width=8):\n",
    "    \"\"\"\n",
    "    A foolishly simple look-up method of getting binary string from an integer\n",
    "    This happens to be faster than more sophisticated other ways!!! Stolen from I do not remember where.\n",
    "    \"\"\"\n",
    "    if n == None:\n",
    "        return \"\"\n",
    "    # =========================================================\n",
    "    # create hex of int, remove '0x'. now for each hex char,\n",
    "    # look up binary string, append in list and join at the end.\n",
    "    # =========================================================\n",
    "    hstr = hex(n)[2:]\n",
    "    extra = max(width - 4*len(hstr), 0)\n",
    "    return (extra*'0')+ \"\".join(hexDict[hch] for hch in hstr)\n",
    "\n",
    "def nat2hex(n,width=2):\n",
    "    s = hex(n)[2:].upper()\n",
    "    extras = max(width-len(s),0)\n",
    "    return extras*'0' + s\n",
    "\n",
    "    \n",
    "class CarrierSet:\n",
    "    def __init__(self,xs, d=None):\n",
    "        self._elmts = frozenset(xs)\n",
    "\n",
    "        if d:\n",
    "            self._dim = d\n",
    "        elif len(self._elmts) == 0:\n",
    "            self.dim = 1\n",
    "        else:\n",
    "            self._dim = max(log2(x) for x in self._elmts)\n",
    "        self._list = sorted(self._elmts,elmtCmp)   \n",
    "        \n",
    "    def __len__(self):\n",
    "        return len(self._elmts)\n",
    "    \n",
    "    def dim(self):\n",
    "        return self._dim\n",
    "    \n",
    "    def __call__(self,x):\n",
    "        return x in self._elmts\n",
    "    \n",
    "    def __iter__(self):\n",
    "        return iter(self._list)\n",
    "    \n",
    "    def getSubset(self,p):\n",
    "        return frozenset(self._list[b] for b in bits(p))\n",
    "    \n",
    "    def col(self,k):\n",
    "        res = 0\n",
    "        b = 1\n",
    "        m = 1<<k\n",
    "        for e in self._list:\n",
    "            if e&m:\n",
    "                res |= b\n",
    "            b <<= 1\n",
    "        return res\n",
    "    \n",
    "    def _repr_latex_(self):\n",
    "        if len(self) == 0:\n",
    "            return r\"$\\emptyset$\"\n",
    "        s = r\"$\\{\\textsf{%s}\"%nat2bin(self._list[0], self._dim)\n",
    "        for x in self._list[1:]:\n",
    "            s += r\", \\textsf{%s}\"%nat2bin(x,self._dim)\n",
    "        s += r\"\\}$\"\n",
    "        return s\n",
    "\n",
    "def powerSet(cs):\n",
    "    s = list(cs)\n",
    "    return itertools.imap(frozenset, \n",
    "                           itertools.chain.from_iterable(itertools.combinations(s, r) for r in range(len(s)+1)))\n"
   ]
  },
  {
   "cell_type": "code",
   "execution_count": 442,
   "metadata": {},
   "outputs": [
    {
     "data": {
      "text/latex": [
       "$\\{\\textsf{0010}, \\textsf{0100}, \\textsf{0011}\\}$"
      ],
      "text/plain": [
       "<__main__.CarrierSet instance at 0x10665f5f0>"
      ]
     },
     "execution_count": 442,
     "metadata": {},
     "output_type": "execute_result"
    }
   ],
   "source": [
    "CarrierSet([2,3,4])"
   ]
  },
  {
   "cell_type": "code",
   "execution_count": 404,
   "metadata": {},
   "outputs": [],
   "source": [
    "def isGOA(xs):\n",
    "    if 0 not in xs:\n",
    "        return False\n",
    "    \n",
    "    return All(itertools.combinations(xs,2),lambda (x,y):x&y or (x|y in xs))\n",
    "\n",
    "def isGDP(xs):\n",
    "    if 0 not in xs:\n",
    "        return False\n",
    "    \n",
    "    return All(itertools.permutations(xs,2),lambda (x,y):(x&y != y) or (x-y in xs))\n"
   ]
  },
  {
   "cell_type": "code",
   "execution_count": 405,
   "metadata": {},
   "outputs": [],
   "source": [
    "def ortho(a,b):\n",
    "    return not (a&b)\n",
    "\n",
    "def oplus(a,b):\n",
    "    if ortho(a,b):\n",
    "        return a|b\n",
    "    else:\n",
    "        return None\n",
    "    \n",
    "def leq(a,b):\n",
    "    return a==a&b\n",
    "\n",
    "def geq(a,b):\n",
    "    return a&b == b\n",
    "\n",
    "def gt(a,b):\n",
    "    return a!=b and a&b == b\n",
    "\n",
    "def ominus(a,b):\n",
    "    if geq(a,b):\n",
    "        return a&~b\n",
    "    else:\n",
    "        return None\n",
    "\n",
    "# make a 'copy' of the frozen set x with each element b replaced by the set {b*n + i for i in w}\n",
    "def spread(x,w,n):\n",
    "    return frozenset(b*n + i for b in x for i in w)\n",
    "            "
   ]
  },
  {
   "cell_type": "code",
   "execution_count": 406,
   "metadata": {},
   "outputs": [],
   "source": []
  },
  {
   "cell_type": "code",
   "execution_count": 407,
   "metadata": {},
   "outputs": [
    {
     "data": {
      "text/plain": [
       "True"
      ]
     },
     "execution_count": 407,
     "metadata": {},
     "output_type": "execute_result"
    }
   ],
   "source": [
    "tupleInReln(J3,[0x0,0x0,0x0],4)"
   ]
  },
  {
   "cell_type": "code",
   "execution_count": 408,
   "metadata": {},
   "outputs": [],
   "source": [
    "class GOA(CarrierSet):\n",
    "    def __init__(self, g):\n",
    "        CarrierSet.__init__(self,g)\n",
    "        if not isGOA(self):\n",
    "            raise ArithmeticError()\n",
    "        self._relns = []\n",
    "\n",
    "    def __mul__(self,B):\n",
    "        d = self.dim()\n",
    "        return GOA([(b<<d) | a for a in self for b in B])\n",
    "    \n",
    "    def __add__(self,B):\n",
    "        d = 1<<B.dim()\n",
    "        return GOA(map(lambda x:spread(x,2,1), self) + map(lambda x:spreadBits(x,2,3), B))\n",
    "       \n",
    "    def _repr_latex_(self):\n",
    "        w = log16(self.dim())\n",
    "\n",
    "        s = r\"\\[\\begin{array}{r|\"+(len(self._elmts)*\"r\"+\"}\")\n",
    "        s += r\" \\oplus \"\n",
    "        \n",
    "        ls = sorted(self._list)\n",
    "        for x in ls:\n",
    "            s += r\" & \\textsf{%s}\"%nat2hex(x, w)\n",
    "        s += r\"\\\\ \\hline \"\n",
    "        for x in ls:\n",
    "            s += \" \" + r\"\\textsf{%s}\"%nat2hex(x,w)\n",
    "            for y in ls:\n",
    "                s += \" & \"\n",
    "                xoy = oplus(x,y)\n",
    "                if xoy != None:\n",
    "                    s += r\"\\textsf{%s}\"%nat2hex(xoy,w)\n",
    "            s += r\" \\\\\"\n",
    "        s += r\"\\end{array}\\]\"\n",
    "        return s\n",
    "\n",
    "    def isPrime(self,p):\n",
    "\n",
    "        f = self.getSubset(p)\n",
    "        if 0 in f: return False\n",
    "        for (x,y) in itertools.combinations(self._elmts,2):\n",
    "            if ortho(x,y):\n",
    "                fx = x in f\n",
    "                fy = y in f\n",
    "                if (fx and fy) or ((fx or fy) != (oplus(x,y) in f)):\n",
    "                    return False\n",
    "        \n",
    "        for R in GDP._relns:\n",
    "            for t in allTuples(R,self._elmts, self._dim):\n",
    "                if not preservesReln(R,t,f):\n",
    "                    return False\n",
    "\n",
    "        return True\n",
    "    \n",
    "    def spectrum(self):\n",
    "        return GDP(p for p in range(1<<(len(self)-1)) if self.isPrime(p<<1))\n",
    " \n"
   ]
  },
  {
   "cell_type": "code",
   "execution_count": 427,
   "metadata": {},
   "outputs": [],
   "source": [
    "class GDP(CarrierSet):\n",
    "    def __init__(self, g):\n",
    "        CarrierSet.__init__(self,g)\n",
    "        if not isGDP(self._elmts):\n",
    "            raise ArithmeticError()\n",
    "        GDP._relns = [J3]\n",
    "        \n",
    "    def __mul__(self,B):\n",
    "        d = self.dim()\n",
    "        return GDP([(b<<d) | a for a in self for b in B])\n",
    "    \n",
    "    def __add__(self,B):\n",
    "        d = 1<<B.dim()\n",
    "        return GDP(map(lambda x:spread(x,2,1), self) + map(lambda x:spreadBits(x,2,3), B))\n",
    "       \n",
    "    def _repr_latex_(self):\n",
    "        w = log16(self.dim())\n",
    "\n",
    "        s = r\"\\[\\begin{array}{r|\"+(len(self._elmts)*\"r\"+\"}\")\n",
    "        s += r\" \\ominus \"\n",
    "        \n",
    "        ls = sorted(self._list)\n",
    "        for x in ls:\n",
    "            s += r\" & \\textsf{%s}\"%nat2hex(x, w)\n",
    "        s += r\"\\\\ \\hline \"\n",
    "        for x in ls:\n",
    "            s += \" \" + r\"\\textsf{%s}\"%nat2hex(x,w)\n",
    "            for y in ls:\n",
    "                s += \" & \"\n",
    "                xoy = ominus(x,y)\n",
    "                if xoy != None:\n",
    "                    s += r\"\\textsf{%s}\"%nat2hex(xoy,w)\n",
    "            s += r\" \\\\\"\n",
    "        s += r\"\\end{array}\\]\"\n",
    "        return s\n",
    "                \n",
    "    def isPrime(self,p):\n",
    "        f = self.getSubset(p)\n",
    "        if 0 in f: return False\n",
    "        for (x,y) in itertools.permutations(self._elmts,2):\n",
    "            if gt(x,y):\n",
    "                fx = x in f\n",
    "                fy = y in f\n",
    "                if ((not fx) and fy) or ((fx and (not fy) != (ominus(x,y) in f))):\n",
    "                    return False\n",
    "\n",
    "        for R in GDP._relns:\n",
    "            for t in allTuples(R,self._elmts,self._dim):\n",
    "                if not preservesReln(R,t,f):\n",
    "                    return False\n",
    "        print p\n",
    "        return True\n",
    "    \n",
    "    def spectrum(self):\n",
    "        return GOA(p for p in range(1<<(len(self)-1)) if self.isPrime(p<<1))\n",
    " \n"
   ]
  },
  {
   "cell_type": "code",
   "execution_count": 428,
   "metadata": {},
   "outputs": [],
   "source": [
    "OPAR_4 = GOA([0b0000,0b1100,0b0011,0b1010,0b0101,0b1001,0b0110, 0b1111])\n",
    "DPAR_4 = GDP([0b0000,0b1100,0b0011,0b1010,0b0101,0b1001,0b0110, 0b1111])"
   ]
  },
  {
   "cell_type": "code",
   "execution_count": 436,
   "metadata": {},
   "outputs": [
    {
     "ename": "ArithmeticError",
     "evalue": "",
     "output_type": "error",
     "traceback": [
      "\u001b[0;31m---------------------------------------------------------------------------\u001b[0m",
      "\u001b[0;31mArithmeticError\u001b[0m                           Traceback (most recent call last)",
      "\u001b[0;32m<ipython-input-436-722b3894bd8c>\u001b[0m in \u001b[0;36m<module>\u001b[0;34m()\u001b[0m\n\u001b[0;32m----> 1\u001b[0;31m \u001b[0mDPAR_4\u001b[0m\u001b[0;34m.\u001b[0m\u001b[0mspectrum\u001b[0m\u001b[0;34m(\u001b[0m\u001b[0;34m)\u001b[0m\u001b[0;34m\u001b[0m\u001b[0m\n\u001b[0m",
      "\u001b[0;32m<ipython-input-427-cf1063fb04e4>\u001b[0m in \u001b[0;36mspectrum\u001b[0;34m(self)\u001b[0m\n\u001b[1;32m     53\u001b[0m \u001b[0;34m\u001b[0m\u001b[0m\n\u001b[1;32m     54\u001b[0m     \u001b[0;32mdef\u001b[0m \u001b[0mspectrum\u001b[0m\u001b[0;34m(\u001b[0m\u001b[0mself\u001b[0m\u001b[0;34m)\u001b[0m\u001b[0;34m:\u001b[0m\u001b[0;34m\u001b[0m\u001b[0m\n\u001b[0;32m---> 55\u001b[0;31m         \u001b[0;32mreturn\u001b[0m \u001b[0mGOA\u001b[0m\u001b[0;34m(\u001b[0m\u001b[0mp\u001b[0m \u001b[0;32mfor\u001b[0m \u001b[0mp\u001b[0m \u001b[0;32min\u001b[0m \u001b[0mrange\u001b[0m\u001b[0;34m(\u001b[0m\u001b[0;36m1\u001b[0m\u001b[0;34m<<\u001b[0m\u001b[0;34m(\u001b[0m\u001b[0mlen\u001b[0m\u001b[0;34m(\u001b[0m\u001b[0mself\u001b[0m\u001b[0;34m)\u001b[0m\u001b[0;34m-\u001b[0m\u001b[0;36m1\u001b[0m\u001b[0;34m)\u001b[0m\u001b[0;34m)\u001b[0m \u001b[0;32mif\u001b[0m \u001b[0mself\u001b[0m\u001b[0;34m.\u001b[0m\u001b[0misPrime\u001b[0m\u001b[0;34m(\u001b[0m\u001b[0mp\u001b[0m\u001b[0;34m<<\u001b[0m\u001b[0;36m1\u001b[0m\u001b[0;34m)\u001b[0m\u001b[0;34m)\u001b[0m\u001b[0;34m\u001b[0m\u001b[0m\n\u001b[0m\u001b[1;32m     56\u001b[0m \u001b[0;34m\u001b[0m\u001b[0m\n",
      "\u001b[0;32m<ipython-input-408-3c49fbb97f1c>\u001b[0m in \u001b[0;36m__init__\u001b[0;34m(self, g)\u001b[0m\n\u001b[1;32m      3\u001b[0m         \u001b[0mCarrierSet\u001b[0m\u001b[0;34m.\u001b[0m\u001b[0m__init__\u001b[0m\u001b[0;34m(\u001b[0m\u001b[0mself\u001b[0m\u001b[0;34m,\u001b[0m\u001b[0mg\u001b[0m\u001b[0;34m)\u001b[0m\u001b[0;34m\u001b[0m\u001b[0m\n\u001b[1;32m      4\u001b[0m         \u001b[0;32mif\u001b[0m \u001b[0;32mnot\u001b[0m \u001b[0misGOA\u001b[0m\u001b[0;34m(\u001b[0m\u001b[0mself\u001b[0m\u001b[0;34m)\u001b[0m\u001b[0;34m:\u001b[0m\u001b[0;34m\u001b[0m\u001b[0m\n\u001b[0;32m----> 5\u001b[0;31m             \u001b[0;32mraise\u001b[0m \u001b[0mArithmeticError\u001b[0m\u001b[0;34m(\u001b[0m\u001b[0;34m)\u001b[0m\u001b[0;34m\u001b[0m\u001b[0m\n\u001b[0m\u001b[1;32m      6\u001b[0m         \u001b[0mself\u001b[0m\u001b[0;34m.\u001b[0m\u001b[0m_relns\u001b[0m \u001b[0;34m=\u001b[0m \u001b[0;34m[\u001b[0m\u001b[0;34m]\u001b[0m\u001b[0;34m\u001b[0m\u001b[0m\n\u001b[1;32m      7\u001b[0m \u001b[0;34m\u001b[0m\u001b[0m\n",
      "\u001b[0;31mArithmeticError\u001b[0m: "
     ]
    }
   ],
   "source": [
    "DPAR_4.spectrum()"
   ]
  },
  {
   "cell_type": "code",
   "execution_count": 430,
   "metadata": {},
   "outputs": [
    {
     "data": {
      "text/latex": [
       "$\\{\\textsf{0000}, \\textsf{0001}, \\textsf{0010}, \\textsf{0100}, \\textsf{1000}, \\textsf{0011}, \\textsf{0101}, \\textsf{0110}, \\textsf{1001}, \\textsf{1010}, \\textsf{1100}, \\textsf{0111}, \\textsf{1011}, \\textsf{1101}, \\textsf{1110}, \\textsf{1111}\\}$"
      ],
      "text/plain": [
       "<__main__.CarrierSet instance at 0x106615320>"
      ]
     },
     "execution_count": 430,
     "metadata": {},
     "output_type": "execute_result"
    }
   ],
   "source": [
    "J3"
   ]
  },
  {
   "cell_type": "code",
   "execution_count": 431,
   "metadata": {},
   "outputs": [
    {
     "data": {
      "text/plain": [
       "6561"
      ]
     },
     "execution_count": 431,
     "metadata": {},
     "output_type": "execute_result"
    }
   ],
   "source": [
    "len(list(allTuples(J3,DS_4,4)))"
   ]
  },
  {
   "cell_type": "code",
   "execution_count": 432,
   "metadata": {},
   "outputs": [
    {
     "data": {
      "text/latex": [
       "\\[\\begin{array}{r|rrrrrrrrrrrrrrrr} \\oplus  & \\textsf{0} & \\textsf{1} & \\textsf{2} & \\textsf{3} & \\textsf{4} & \\textsf{5} & \\textsf{6} & \\textsf{7} & \\textsf{8} & \\textsf{9} & \\textsf{A} & \\textsf{B} & \\textsf{C} & \\textsf{D} & \\textsf{E} & \\textsf{F}\\\\ \\hline  \\textsf{0} & \\textsf{0} & \\textsf{1} & \\textsf{2} & \\textsf{3} & \\textsf{4} & \\textsf{5} & \\textsf{6} & \\textsf{7} & \\textsf{8} & \\textsf{9} & \\textsf{A} & \\textsf{B} & \\textsf{C} & \\textsf{D} & \\textsf{E} & \\textsf{F} \\\\ \\textsf{1} & \\textsf{1} &  & \\textsf{3} &  & \\textsf{5} &  & \\textsf{7} &  & \\textsf{9} &  & \\textsf{B} &  & \\textsf{D} &  & \\textsf{F} &  \\\\ \\textsf{2} & \\textsf{2} & \\textsf{3} &  &  & \\textsf{6} & \\textsf{7} &  &  & \\textsf{A} & \\textsf{B} &  &  & \\textsf{E} & \\textsf{F} &  &  \\\\ \\textsf{3} & \\textsf{3} &  &  &  & \\textsf{7} &  &  &  & \\textsf{B} &  &  &  & \\textsf{F} &  &  &  \\\\ \\textsf{4} & \\textsf{4} & \\textsf{5} & \\textsf{6} & \\textsf{7} &  &  &  &  & \\textsf{C} & \\textsf{D} & \\textsf{E} & \\textsf{F} &  &  &  &  \\\\ \\textsf{5} & \\textsf{5} &  & \\textsf{7} &  &  &  &  &  & \\textsf{D} &  & \\textsf{F} &  &  &  &  &  \\\\ \\textsf{6} & \\textsf{6} & \\textsf{7} &  &  &  &  &  &  & \\textsf{E} & \\textsf{F} &  &  &  &  &  &  \\\\ \\textsf{7} & \\textsf{7} &  &  &  &  &  &  &  & \\textsf{F} &  &  &  &  &  &  &  \\\\ \\textsf{8} & \\textsf{8} & \\textsf{9} & \\textsf{A} & \\textsf{B} & \\textsf{C} & \\textsf{D} & \\textsf{E} & \\textsf{F} &  &  &  &  &  &  &  &  \\\\ \\textsf{9} & \\textsf{9} &  & \\textsf{B} &  & \\textsf{D} &  & \\textsf{F} &  &  &  &  &  &  &  &  &  \\\\ \\textsf{A} & \\textsf{A} & \\textsf{B} &  &  & \\textsf{E} & \\textsf{F} &  &  &  &  &  &  &  &  &  &  \\\\ \\textsf{B} & \\textsf{B} &  &  &  & \\textsf{F} &  &  &  &  &  &  &  &  &  &  &  \\\\ \\textsf{C} & \\textsf{C} & \\textsf{D} & \\textsf{E} & \\textsf{F} &  &  &  &  &  &  &  &  &  &  &  &  \\\\ \\textsf{D} & \\textsf{D} &  & \\textsf{F} &  &  &  &  &  &  &  &  &  &  &  &  &  \\\\ \\textsf{E} & \\textsf{E} & \\textsf{F} &  &  &  &  &  &  &  &  &  &  &  &  &  &  \\\\ \\textsf{F} & \\textsf{F} &  &  &  &  &  &  &  &  &  &  &  &  &  &  &  \\\\\\end{array}\\]"
      ],
      "text/plain": [
       "<__main__.GOA instance at 0x1053f5050>"
      ]
     },
     "execution_count": 432,
     "metadata": {},
     "output_type": "execute_result"
    }
   ],
   "source": [
    "P_1 = GOA([0,1])\n",
    "SQ_4 = P_1*P_1*P_1*P_1\n",
    "SQ_4"
   ]
  },
  {
   "cell_type": "code",
   "execution_count": 433,
   "metadata": {},
   "outputs": [
    {
     "data": {
      "text/latex": [
       "\\[\\begin{array}{r|rrrrrrrr} \\ominus  & \\textsf{0} & \\textsf{3} & \\textsf{5} & \\textsf{6} & \\textsf{9} & \\textsf{A} & \\textsf{C} & \\textsf{F}\\\\ \\hline  \\textsf{0} & \\textsf{0} &  &  &  &  &  &  &  \\\\ \\textsf{3} & \\textsf{3} & \\textsf{0} &  &  &  &  &  &  \\\\ \\textsf{5} & \\textsf{5} &  & \\textsf{0} &  &  &  &  &  \\\\ \\textsf{6} & \\textsf{6} &  &  & \\textsf{0} &  &  &  &  \\\\ \\textsf{9} & \\textsf{9} &  &  &  & \\textsf{0} &  &  &  \\\\ \\textsf{A} & \\textsf{A} &  &  &  &  & \\textsf{0} &  &  \\\\ \\textsf{C} & \\textsf{C} &  &  &  &  &  & \\textsf{0} &  \\\\ \\textsf{F} & \\textsf{F} & \\textsf{C} & \\textsf{A} & \\textsf{9} & \\textsf{6} & \\textsf{5} & \\textsf{3} & \\textsf{0} \\\\\\end{array}\\]"
      ],
      "text/plain": [
       "<__main__.GDP instance at 0x1053e3320>"
      ]
     },
     "execution_count": 433,
     "metadata": {},
     "output_type": "execute_result"
    }
   ],
   "source": [
    "DPAR_4"
   ]
  },
  {
   "cell_type": "code",
   "execution_count": 434,
   "metadata": {},
   "outputs": [
    {
     "data": {
      "text/latex": [
       "\\[\\begin{array}{r|rrrrrrrr} \\oplus  & \\textsf{0} & \\textsf{3} & \\textsf{5} & \\textsf{6} & \\textsf{9} & \\textsf{A} & \\textsf{C} & \\textsf{F}\\\\ \\hline  \\textsf{0} & \\textsf{0} & \\textsf{3} & \\textsf{5} & \\textsf{6} & \\textsf{9} & \\textsf{A} & \\textsf{C} & \\textsf{F} \\\\ \\textsf{3} & \\textsf{3} &  &  &  &  &  & \\textsf{F} &  \\\\ \\textsf{5} & \\textsf{5} &  &  &  &  & \\textsf{F} &  &  \\\\ \\textsf{6} & \\textsf{6} &  &  &  & \\textsf{F} &  &  &  \\\\ \\textsf{9} & \\textsf{9} &  &  & \\textsf{F} &  &  &  &  \\\\ \\textsf{A} & \\textsf{A} &  & \\textsf{F} &  &  &  &  &  \\\\ \\textsf{C} & \\textsf{C} & \\textsf{F} &  &  &  &  &  &  \\\\ \\textsf{F} & \\textsf{F} &  &  &  &  &  &  &  \\\\\\end{array}\\]"
      ],
      "text/plain": [
       "<__main__.GOA instance at 0x1053e3e60>"
      ]
     },
     "execution_count": 434,
     "metadata": {},
     "output_type": "execute_result"
    }
   ],
   "source": [
    "OPAR_4"
   ]
  },
  {
   "cell_type": "code",
   "execution_count": 435,
   "metadata": {},
   "outputs": [
    {
     "ename": "ArithmeticError",
     "evalue": "",
     "output_type": "error",
     "traceback": [
      "\u001b[0;31m---------------------------------------------------------------------------\u001b[0m",
      "\u001b[0;31mArithmeticError\u001b[0m                           Traceback (most recent call last)",
      "\u001b[0;32m<ipython-input-435-0e6f97b975f1>\u001b[0m in \u001b[0;36m<module>\u001b[0;34m()\u001b[0m\n\u001b[0;32m----> 1\u001b[0;31m \u001b[0mOPAR_4\u001b[0m\u001b[0;34m.\u001b[0m\u001b[0mspectrum\u001b[0m\u001b[0;34m(\u001b[0m\u001b[0;34m)\u001b[0m\u001b[0;34m\u001b[0m\u001b[0m\n\u001b[0m",
      "\u001b[0;32m<ipython-input-408-3c49fbb97f1c>\u001b[0m in \u001b[0;36mspectrum\u001b[0;34m(self)\u001b[0m\n\u001b[1;32m     54\u001b[0m \u001b[0;34m\u001b[0m\u001b[0m\n\u001b[1;32m     55\u001b[0m     \u001b[0;32mdef\u001b[0m \u001b[0mspectrum\u001b[0m\u001b[0;34m(\u001b[0m\u001b[0mself\u001b[0m\u001b[0;34m)\u001b[0m\u001b[0;34m:\u001b[0m\u001b[0;34m\u001b[0m\u001b[0m\n\u001b[0;32m---> 56\u001b[0;31m         \u001b[0;32mreturn\u001b[0m \u001b[0mGDP\u001b[0m\u001b[0;34m(\u001b[0m\u001b[0mp\u001b[0m \u001b[0;32mfor\u001b[0m \u001b[0mp\u001b[0m \u001b[0;32min\u001b[0m \u001b[0mrange\u001b[0m\u001b[0;34m(\u001b[0m\u001b[0;36m1\u001b[0m\u001b[0;34m<<\u001b[0m\u001b[0;34m(\u001b[0m\u001b[0mlen\u001b[0m\u001b[0;34m(\u001b[0m\u001b[0mself\u001b[0m\u001b[0;34m)\u001b[0m\u001b[0;34m-\u001b[0m\u001b[0;36m1\u001b[0m\u001b[0;34m)\u001b[0m\u001b[0;34m)\u001b[0m \u001b[0;32mif\u001b[0m \u001b[0mself\u001b[0m\u001b[0;34m.\u001b[0m\u001b[0misPrime\u001b[0m\u001b[0;34m(\u001b[0m\u001b[0mp\u001b[0m\u001b[0;34m<<\u001b[0m\u001b[0;36m1\u001b[0m\u001b[0;34m)\u001b[0m\u001b[0;34m)\u001b[0m\u001b[0;34m\u001b[0m\u001b[0m\n\u001b[0m\u001b[1;32m     57\u001b[0m \u001b[0;34m\u001b[0m\u001b[0m\n",
      "\u001b[0;32m<ipython-input-427-cf1063fb04e4>\u001b[0m in \u001b[0;36m__init__\u001b[0;34m(self, g)\u001b[0m\n\u001b[1;32m      3\u001b[0m         \u001b[0mCarrierSet\u001b[0m\u001b[0;34m.\u001b[0m\u001b[0m__init__\u001b[0m\u001b[0;34m(\u001b[0m\u001b[0mself\u001b[0m\u001b[0;34m,\u001b[0m\u001b[0mg\u001b[0m\u001b[0;34m)\u001b[0m\u001b[0;34m\u001b[0m\u001b[0m\n\u001b[1;32m      4\u001b[0m         \u001b[0;32mif\u001b[0m \u001b[0;32mnot\u001b[0m \u001b[0misGDP\u001b[0m\u001b[0;34m(\u001b[0m\u001b[0mself\u001b[0m\u001b[0;34m.\u001b[0m\u001b[0m_elmts\u001b[0m\u001b[0;34m)\u001b[0m\u001b[0;34m:\u001b[0m\u001b[0;34m\u001b[0m\u001b[0m\n\u001b[0;32m----> 5\u001b[0;31m             \u001b[0;32mraise\u001b[0m \u001b[0mArithmeticError\u001b[0m\u001b[0;34m(\u001b[0m\u001b[0;34m)\u001b[0m\u001b[0;34m\u001b[0m\u001b[0m\n\u001b[0m\u001b[1;32m      6\u001b[0m         \u001b[0mGDP\u001b[0m\u001b[0;34m.\u001b[0m\u001b[0m_relns\u001b[0m \u001b[0;34m=\u001b[0m \u001b[0;34m[\u001b[0m\u001b[0mJ3\u001b[0m\u001b[0;34m]\u001b[0m\u001b[0;34m\u001b[0m\u001b[0m\n\u001b[1;32m      7\u001b[0m \u001b[0;34m\u001b[0m\u001b[0m\n",
      "\u001b[0;31mArithmeticError\u001b[0m: "
     ]
    }
   ],
   "source": [
    "OPAR_4.spectrum()"
   ]
  },
  {
   "cell_type": "code",
   "execution_count": null,
   "metadata": {
    "collapsed": true
   },
   "outputs": [],
   "source": []
  },
  {
   "cell_type": "code",
   "execution_count": null,
   "metadata": {
    "collapsed": true
   },
   "outputs": [],
   "source": []
  }
 ],
 "metadata": {
  "kernelspec": {
   "display_name": "Python 3",
   "language": "python",
   "name": "python3"
  },
  "language_info": {
   "codemirror_mode": {
    "name": "ipython",
    "version": 3
   },
   "file_extension": ".py",
   "mimetype": "text/x-python",
   "name": "python",
   "nbconvert_exporter": "python",
   "pygments_lexer": "ipython3",
   "version": "3.6.3"
  }
 },
 "nbformat": 4,
 "nbformat_minor": 1
}
